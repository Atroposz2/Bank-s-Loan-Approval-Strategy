{
 "cells": [
  {
   "cell_type": "code",
   "execution_count": 1,
   "metadata": {},
   "outputs": [],
   "source": [
    "# Import the necessary packages\n",
    "\n",
    "import pandas as pd\n",
    "import numpy as np\n",
    "import matplotlib.pyplot as plt\n",
    "import seaborn as sns\n",
    "\n",
    "import matplotlib\n",
    "\n",
    "from sklearn.linear_model import LogisticRegression\n",
    "from sklearn.model_selection import train_test_split\n",
    "from sklearn.preprocessing import OneHotEncoder\n",
    "from sklearn import metrics\n",
    "\n",
    "import matplotlib.transforms\n",
    "import time\n",
    "\n",
    "from sklearn.ensemble import RandomForestClassifier\n",
    "from sklearn.model_selection import GridSearchCV\n",
    "import time\n",
    "import lime\n",
    "from lime import lime_tabular\n",
    "from sklearn.ensemble import RandomForestRegressor\n",
    "\n",
    "from sklearn.model_selection import train_test_split,GridSearchCV,cross_val_predict\n",
    "from sklearn.metrics import make_scorer"
   ]
  },
  {
   "cell_type": "code",
   "execution_count": 2,
   "metadata": {},
   "outputs": [
    {
     "name": "stdout",
     "output_type": "stream",
     "text": [
      "Wall time: 0 ns\n"
     ]
    }
   ],
   "source": [
    "# Import the dataframes\n",
    "loans = pd.read_csv('loan_table.csv')\n",
    "borrowers = pd.read_csv('borrower_table.csv')\n",
    "\n",
    "%time"
   ]
  },
  {
   "cell_type": "code",
   "execution_count": 3,
   "metadata": {},
   "outputs": [
    {
     "name": "stdout",
     "output_type": "stream",
     "text": [
      "There are 0 loan_id duplicates in the loans dataset.\n",
      "There are 0 loan_id duplicates in the borrowers dataset.\n",
      "Wall time: 0 ns\n"
     ]
    }
   ],
   "source": [
    "# Check the duplicates\n",
    "a= loans.shape[0] - loans.loan_id.nunique()\n",
    "b= borrowers.shape[0] - borrowers.loan_id.nunique()\n",
    "\n",
    "print(\"There are {} loan_id duplicates in the loans dataset.\".format(a))\n",
    "print(\"There are {} loan_id duplicates in the borrowers dataset.\".format(b))\n",
    "\n",
    "%time"
   ]
  },
  {
   "cell_type": "code",
   "execution_count": 4,
   "metadata": {},
   "outputs": [
    {
     "name": "stdout",
     "output_type": "stream",
     "text": [
      "The lists are identical, meaning that the loan_id-s are the same in the tables.\n",
      "Wall time: 0 ns\n"
     ]
    }
   ],
   "source": [
    "# Checking if all loan_id-s are the same. Sort the tables first by loan_id in ascending order:\n",
    "\n",
    "loans_asc = loans.sort_values(by=['loan_id'])\n",
    "borrowers_asc = borrowers.sort_values(by=['loan_id'])\n",
    "\n",
    "# Put the loan_id columns of both table into lists:\n",
    "borrowers_loan_id = list(borrowers_asc['loan_id'])\n",
    "loans_loan_id = list(loans_asc['loan_id'])\n",
    "\n",
    "# Check if they are identical:\n",
    "\n",
    "if borrowers_loan_id==loans_loan_id:\n",
    "    print (\"The lists are identical, meaning that the loan_id-s are the same in the tables.\")\n",
    "else:\n",
    "    print(\"The lists are not identical,meaning that the loan_id-s are not the same in the tables.\")\n",
    "    \n",
    "%time"
   ]
  },
  {
   "cell_type": "markdown",
   "metadata": {},
   "source": [
    "### Merge the two dataframes"
   ]
  },
  {
   "cell_type": "code",
   "execution_count": 5,
   "metadata": {},
   "outputs": [
    {
     "data": {
      "text/html": [
       "<div>\n",
       "<style scoped>\n",
       "    .dataframe tbody tr th:only-of-type {\n",
       "        vertical-align: middle;\n",
       "    }\n",
       "\n",
       "    .dataframe tbody tr th {\n",
       "        vertical-align: top;\n",
       "    }\n",
       "\n",
       "    .dataframe thead th {\n",
       "        text-align: right;\n",
       "    }\n",
       "</style>\n",
       "<table border=\"1\" class=\"dataframe\">\n",
       "  <thead>\n",
       "    <tr style=\"text-align: right;\">\n",
       "      <th></th>\n",
       "      <th>loan_id</th>\n",
       "      <th>loan_purpose</th>\n",
       "      <th>date</th>\n",
       "      <th>loan_granted</th>\n",
       "      <th>loan_repaid</th>\n",
       "      <th>is_first_loan</th>\n",
       "      <th>fully_repaid_previous_loans</th>\n",
       "      <th>currently_repaying_other_loans</th>\n",
       "      <th>total_credit_card_limit</th>\n",
       "      <th>avg_percentage_credit_card_limit_used_last_year</th>\n",
       "      <th>saving_amount</th>\n",
       "      <th>checking_amount</th>\n",
       "      <th>is_employed</th>\n",
       "      <th>yearly_salary</th>\n",
       "      <th>age</th>\n",
       "      <th>dependent_number</th>\n",
       "    </tr>\n",
       "  </thead>\n",
       "  <tbody>\n",
       "    <tr>\n",
       "      <th>0</th>\n",
       "      <td>19454</td>\n",
       "      <td>investment</td>\n",
       "      <td>15/03/2012</td>\n",
       "      <td>0</td>\n",
       "      <td>NaN</td>\n",
       "      <td>1</td>\n",
       "      <td>NaN</td>\n",
       "      <td>NaN</td>\n",
       "      <td>8600</td>\n",
       "      <td>0.79</td>\n",
       "      <td>1491</td>\n",
       "      <td>6285</td>\n",
       "      <td>1</td>\n",
       "      <td>45200</td>\n",
       "      <td>42</td>\n",
       "      <td>7</td>\n",
       "    </tr>\n",
       "    <tr>\n",
       "      <th>1</th>\n",
       "      <td>496811</td>\n",
       "      <td>investment</td>\n",
       "      <td>17/01/2012</td>\n",
       "      <td>0</td>\n",
       "      <td>NaN</td>\n",
       "      <td>1</td>\n",
       "      <td>NaN</td>\n",
       "      <td>NaN</td>\n",
       "      <td>5300</td>\n",
       "      <td>0.52</td>\n",
       "      <td>141</td>\n",
       "      <td>5793</td>\n",
       "      <td>0</td>\n",
       "      <td>0</td>\n",
       "      <td>42</td>\n",
       "      <td>5</td>\n",
       "    </tr>\n",
       "    <tr>\n",
       "      <th>2</th>\n",
       "      <td>929493</td>\n",
       "      <td>other</td>\n",
       "      <td>09/02/2012</td>\n",
       "      <td>0</td>\n",
       "      <td>NaN</td>\n",
       "      <td>1</td>\n",
       "      <td>NaN</td>\n",
       "      <td>NaN</td>\n",
       "      <td>0</td>\n",
       "      <td>NaN</td>\n",
       "      <td>660</td>\n",
       "      <td>3232</td>\n",
       "      <td>1</td>\n",
       "      <td>26500</td>\n",
       "      <td>60</td>\n",
       "      <td>4</td>\n",
       "    </tr>\n",
       "    <tr>\n",
       "      <th>3</th>\n",
       "      <td>580653</td>\n",
       "      <td>other</td>\n",
       "      <td>27/06/2012</td>\n",
       "      <td>1</td>\n",
       "      <td>1.0</td>\n",
       "      <td>0</td>\n",
       "      <td>1.0</td>\n",
       "      <td>0.0</td>\n",
       "      <td>5400</td>\n",
       "      <td>0.52</td>\n",
       "      <td>3345</td>\n",
       "      <td>2764</td>\n",
       "      <td>1</td>\n",
       "      <td>15800</td>\n",
       "      <td>58</td>\n",
       "      <td>4</td>\n",
       "    </tr>\n",
       "    <tr>\n",
       "      <th>4</th>\n",
       "      <td>172419</td>\n",
       "      <td>business</td>\n",
       "      <td>21/05/2012</td>\n",
       "      <td>1</td>\n",
       "      <td>0.0</td>\n",
       "      <td>1</td>\n",
       "      <td>NaN</td>\n",
       "      <td>NaN</td>\n",
       "      <td>2900</td>\n",
       "      <td>0.76</td>\n",
       "      <td>1050</td>\n",
       "      <td>3695</td>\n",
       "      <td>1</td>\n",
       "      <td>34800</td>\n",
       "      <td>31</td>\n",
       "      <td>4</td>\n",
       "    </tr>\n",
       "  </tbody>\n",
       "</table>\n",
       "</div>"
      ],
      "text/plain": [
       "   loan_id loan_purpose        date  loan_granted  loan_repaid  is_first_loan  \\\n",
       "0    19454   investment  15/03/2012             0          NaN              1   \n",
       "1   496811   investment  17/01/2012             0          NaN              1   \n",
       "2   929493        other  09/02/2012             0          NaN              1   \n",
       "3   580653        other  27/06/2012             1          1.0              0   \n",
       "4   172419     business  21/05/2012             1          0.0              1   \n",
       "\n",
       "   fully_repaid_previous_loans  currently_repaying_other_loans  \\\n",
       "0                          NaN                             NaN   \n",
       "1                          NaN                             NaN   \n",
       "2                          NaN                             NaN   \n",
       "3                          1.0                             0.0   \n",
       "4                          NaN                             NaN   \n",
       "\n",
       "   total_credit_card_limit  avg_percentage_credit_card_limit_used_last_year  \\\n",
       "0                     8600                                             0.79   \n",
       "1                     5300                                             0.52   \n",
       "2                        0                                              NaN   \n",
       "3                     5400                                             0.52   \n",
       "4                     2900                                             0.76   \n",
       "\n",
       "   saving_amount  checking_amount  is_employed  yearly_salary  age  \\\n",
       "0           1491             6285            1          45200   42   \n",
       "1            141             5793            0              0   42   \n",
       "2            660             3232            1          26500   60   \n",
       "3           3345             2764            1          15800   58   \n",
       "4           1050             3695            1          34800   31   \n",
       "\n",
       "   dependent_number  \n",
       "0                 7  \n",
       "1                 5  \n",
       "2                 4  \n",
       "3                 4  \n",
       "4                 4  "
      ]
     },
     "execution_count": 5,
     "metadata": {},
     "output_type": "execute_result"
    }
   ],
   "source": [
    "\n",
    "merged_loans= pd.merge(loans, borrowers, how='left', on='loan_id')\n",
    "merged_loans.head()\n"
   ]
  },
  {
   "cell_type": "code",
   "execution_count": 6,
   "metadata": {},
   "outputs": [
    {
     "data": {
      "text/plain": [
       "loan_id                                              int64\n",
       "loan_purpose                                        object\n",
       "date                                                object\n",
       "loan_granted                                         int64\n",
       "loan_repaid                                        float64\n",
       "is_first_loan                                        int64\n",
       "fully_repaid_previous_loans                        float64\n",
       "currently_repaying_other_loans                     float64\n",
       "total_credit_card_limit                              int64\n",
       "avg_percentage_credit_card_limit_used_last_year    float64\n",
       "saving_amount                                        int64\n",
       "checking_amount                                      int64\n",
       "is_employed                                          int64\n",
       "yearly_salary                                        int64\n",
       "age                                                  int64\n",
       "dependent_number                                     int64\n",
       "dtype: object"
      ]
     },
     "execution_count": 6,
     "metadata": {},
     "output_type": "execute_result"
    }
   ],
   "source": [
    "merged_loans.dtypes"
   ]
  },
  {
   "cell_type": "code",
   "execution_count": 7,
   "metadata": {},
   "outputs": [
    {
     "data": {
      "text/html": [
       "<div>\n",
       "<style scoped>\n",
       "    .dataframe tbody tr th:only-of-type {\n",
       "        vertical-align: middle;\n",
       "    }\n",
       "\n",
       "    .dataframe tbody tr th {\n",
       "        vertical-align: top;\n",
       "    }\n",
       "\n",
       "    .dataframe thead th {\n",
       "        text-align: right;\n",
       "    }\n",
       "</style>\n",
       "<table border=\"1\" class=\"dataframe\">\n",
       "  <thead>\n",
       "    <tr style=\"text-align: right;\">\n",
       "      <th></th>\n",
       "      <th>Missing_Value_Count</th>\n",
       "      <th>Missing_Value_Percentage</th>\n",
       "    </tr>\n",
       "  </thead>\n",
       "  <tbody>\n",
       "    <tr>\n",
       "      <th>fully_repaid_previous_loans</th>\n",
       "      <td>54947</td>\n",
       "      <td>54.35</td>\n",
       "    </tr>\n",
       "    <tr>\n",
       "      <th>currently_repaying_other_loans</th>\n",
       "      <td>54947</td>\n",
       "      <td>54.35</td>\n",
       "    </tr>\n",
       "    <tr>\n",
       "      <th>loan_repaid</th>\n",
       "      <td>53446</td>\n",
       "      <td>52.86</td>\n",
       "    </tr>\n",
       "    <tr>\n",
       "      <th>avg_percentage_credit_card_limit_used_last_year</th>\n",
       "      <td>6972</td>\n",
       "      <td>6.90</td>\n",
       "    </tr>\n",
       "    <tr>\n",
       "      <th>loan_id</th>\n",
       "      <td>0</td>\n",
       "      <td>0.00</td>\n",
       "    </tr>\n",
       "    <tr>\n",
       "      <th>loan_purpose</th>\n",
       "      <td>0</td>\n",
       "      <td>0.00</td>\n",
       "    </tr>\n",
       "    <tr>\n",
       "      <th>date</th>\n",
       "      <td>0</td>\n",
       "      <td>0.00</td>\n",
       "    </tr>\n",
       "    <tr>\n",
       "      <th>loan_granted</th>\n",
       "      <td>0</td>\n",
       "      <td>0.00</td>\n",
       "    </tr>\n",
       "    <tr>\n",
       "      <th>is_first_loan</th>\n",
       "      <td>0</td>\n",
       "      <td>0.00</td>\n",
       "    </tr>\n",
       "    <tr>\n",
       "      <th>total_credit_card_limit</th>\n",
       "      <td>0</td>\n",
       "      <td>0.00</td>\n",
       "    </tr>\n",
       "    <tr>\n",
       "      <th>saving_amount</th>\n",
       "      <td>0</td>\n",
       "      <td>0.00</td>\n",
       "    </tr>\n",
       "    <tr>\n",
       "      <th>checking_amount</th>\n",
       "      <td>0</td>\n",
       "      <td>0.00</td>\n",
       "    </tr>\n",
       "    <tr>\n",
       "      <th>is_employed</th>\n",
       "      <td>0</td>\n",
       "      <td>0.00</td>\n",
       "    </tr>\n",
       "    <tr>\n",
       "      <th>yearly_salary</th>\n",
       "      <td>0</td>\n",
       "      <td>0.00</td>\n",
       "    </tr>\n",
       "    <tr>\n",
       "      <th>age</th>\n",
       "      <td>0</td>\n",
       "      <td>0.00</td>\n",
       "    </tr>\n",
       "    <tr>\n",
       "      <th>dependent_number</th>\n",
       "      <td>0</td>\n",
       "      <td>0.00</td>\n",
       "    </tr>\n",
       "  </tbody>\n",
       "</table>\n",
       "</div>"
      ],
      "text/plain": [
       "                                                 Missing_Value_Count  \\\n",
       "fully_repaid_previous_loans                                    54947   \n",
       "currently_repaying_other_loans                                 54947   \n",
       "loan_repaid                                                    53446   \n",
       "avg_percentage_credit_card_limit_used_last_year                 6972   \n",
       "loan_id                                                            0   \n",
       "loan_purpose                                                       0   \n",
       "date                                                               0   \n",
       "loan_granted                                                       0   \n",
       "is_first_loan                                                      0   \n",
       "total_credit_card_limit                                            0   \n",
       "saving_amount                                                      0   \n",
       "checking_amount                                                    0   \n",
       "is_employed                                                        0   \n",
       "yearly_salary                                                      0   \n",
       "age                                                                0   \n",
       "dependent_number                                                   0   \n",
       "\n",
       "                                                 Missing_Value_Percentage  \n",
       "fully_repaid_previous_loans                                         54.35  \n",
       "currently_repaying_other_loans                                      54.35  \n",
       "loan_repaid                                                         52.86  \n",
       "avg_percentage_credit_card_limit_used_last_year                      6.90  \n",
       "loan_id                                                              0.00  \n",
       "loan_purpose                                                         0.00  \n",
       "date                                                                 0.00  \n",
       "loan_granted                                                         0.00  \n",
       "is_first_loan                                                        0.00  \n",
       "total_credit_card_limit                                              0.00  \n",
       "saving_amount                                                        0.00  \n",
       "checking_amount                                                      0.00  \n",
       "is_employed                                                          0.00  \n",
       "yearly_salary                                                        0.00  \n",
       "age                                                                  0.00  \n",
       "dependent_number                                                     0.00  "
      ]
     },
     "execution_count": 7,
     "metadata": {},
     "output_type": "execute_result"
    }
   ],
   "source": [
    "missing_value_merged_loans = pd.DataFrame(index = merged_loans.keys(), data =merged_loans.isnull().sum(), columns = ['Missing_Value_Count'])\n",
    "missing_value_merged_loans['Missing_Value_Percentage'] = np.round(((merged_loans.isnull().mean())*100),2)\n",
    "missing_value_merged_loans.sort_values('Missing_Value_Count',ascending= False)"
   ]
  },
  {
   "cell_type": "markdown",
   "metadata": {},
   "source": [
    "### Dealing with NaN values: \n",
    "* *loan_repaid*: where there was not any loan granted (loan_granted value is 0), there the loan_repaid value can be -1.\n",
    "* *fully_repaid_previous loans*, *currently repaying_other_loans*: if it is first loan, same applies as above\n",
    "* *avg_percentage_credit_card_limit_used_last_year*: the low proportion of NaN values does not cause any problem, I simply replace them with 0."
   ]
  },
  {
   "cell_type": "code",
   "execution_count": 9,
   "metadata": {},
   "outputs": [],
   "source": [
    "merged_loans['final_loan_repaid'] = np.where(merged_loans['loan_granted']==0, -1, merged_loans['loan_repaid'])\n",
    "merged_loans['final_fully_repaid_previous_loans'] = np.where(merged_loans['is_first_loan']==1, -1, merged_loans['fully_repaid_previous_loans'])\n",
    "merged_loans['final_currently_repaying_other_loans'] = np.where(merged_loans['is_first_loan']==1, -1, merged_loans['currently_repaying_other_loans'])"
   ]
  },
  {
   "cell_type": "code",
   "execution_count": 16,
   "metadata": {},
   "outputs": [],
   "source": [
    "merged_loans['avg_percentage_credit_card_limit_used_last_year']=merged_loans['avg_percentage_credit_card_limit_used_last_year'].fillna(0)"
   ]
  },
  {
   "cell_type": "code",
   "execution_count": 19,
   "metadata": {},
   "outputs": [],
   "source": [
    "merged_loans_copy=merged_loans.copy()"
   ]
  },
  {
   "cell_type": "code",
   "execution_count": 24,
   "metadata": {},
   "outputs": [],
   "source": [
    "# Drop unneccesary columns:\n",
    "merged_loans_copy = merged_loans_copy.drop(['loan_repaid', 'fully_repaid_previous_loans', 'currently_repaying_other_loans'], axis=1)"
   ]
  },
  {
   "cell_type": "code",
   "execution_count": 26,
   "metadata": {},
   "outputs": [
    {
     "data": {
      "text/plain": [
       "loan_id                                            0\n",
       "loan_purpose                                       0\n",
       "date                                               0\n",
       "loan_granted                                       0\n",
       "is_first_loan                                      0\n",
       "total_credit_card_limit                            0\n",
       "avg_percentage_credit_card_limit_used_last_year    0\n",
       "saving_amount                                      0\n",
       "checking_amount                                    0\n",
       "is_employed                                        0\n",
       "yearly_salary                                      0\n",
       "age                                                0\n",
       "dependent_number                                   0\n",
       "final_loan_repaid                                  0\n",
       "final_fully_repaid_previous_loans                  0\n",
       "final_currently_repaying_other_loans               0\n",
       "dtype: int64"
      ]
     },
     "execution_count": 26,
     "metadata": {},
     "output_type": "execute_result"
    }
   ],
   "source": [
    "merged_loans_copy.isna().sum()"
   ]
  },
  {
   "cell_type": "code",
   "execution_count": 28,
   "metadata": {},
   "outputs": [
    {
     "data": {
      "text/html": [
       "<div>\n",
       "<style scoped>\n",
       "    .dataframe tbody tr th:only-of-type {\n",
       "        vertical-align: middle;\n",
       "    }\n",
       "\n",
       "    .dataframe tbody tr th {\n",
       "        vertical-align: top;\n",
       "    }\n",
       "\n",
       "    .dataframe thead th {\n",
       "        text-align: right;\n",
       "    }\n",
       "</style>\n",
       "<table border=\"1\" class=\"dataframe\">\n",
       "  <thead>\n",
       "    <tr style=\"text-align: right;\">\n",
       "      <th></th>\n",
       "      <th>loan_id</th>\n",
       "      <th>loan_purpose</th>\n",
       "      <th>date</th>\n",
       "      <th>loan_granted</th>\n",
       "      <th>is_first_loan</th>\n",
       "      <th>total_credit_card_limit</th>\n",
       "      <th>avg_percentage_credit_card_limit_used_last_year</th>\n",
       "      <th>saving_amount</th>\n",
       "      <th>checking_amount</th>\n",
       "      <th>is_employed</th>\n",
       "      <th>yearly_salary</th>\n",
       "      <th>age</th>\n",
       "      <th>dependent_number</th>\n",
       "      <th>final_loan_repaid</th>\n",
       "      <th>final_fully_repaid_previous_loans</th>\n",
       "      <th>final_currently_repaying_other_loans</th>\n",
       "    </tr>\n",
       "  </thead>\n",
       "  <tbody>\n",
       "    <tr>\n",
       "      <th>3</th>\n",
       "      <td>580653</td>\n",
       "      <td>other</td>\n",
       "      <td>27/06/2012</td>\n",
       "      <td>1</td>\n",
       "      <td>0</td>\n",
       "      <td>5400</td>\n",
       "      <td>0.52</td>\n",
       "      <td>3345</td>\n",
       "      <td>2764</td>\n",
       "      <td>1</td>\n",
       "      <td>15800</td>\n",
       "      <td>58</td>\n",
       "      <td>4</td>\n",
       "      <td>1.0</td>\n",
       "      <td>1.0</td>\n",
       "      <td>0.0</td>\n",
       "    </tr>\n",
       "    <tr>\n",
       "      <th>4</th>\n",
       "      <td>172419</td>\n",
       "      <td>business</td>\n",
       "      <td>21/05/2012</td>\n",
       "      <td>1</td>\n",
       "      <td>1</td>\n",
       "      <td>2900</td>\n",
       "      <td>0.76</td>\n",
       "      <td>1050</td>\n",
       "      <td>3695</td>\n",
       "      <td>1</td>\n",
       "      <td>34800</td>\n",
       "      <td>31</td>\n",
       "      <td>4</td>\n",
       "      <td>0.0</td>\n",
       "      <td>-1.0</td>\n",
       "      <td>-1.0</td>\n",
       "    </tr>\n",
       "    <tr>\n",
       "      <th>6</th>\n",
       "      <td>780070</td>\n",
       "      <td>business</td>\n",
       "      <td>14/03/2012</td>\n",
       "      <td>1</td>\n",
       "      <td>0</td>\n",
       "      <td>7800</td>\n",
       "      <td>0.30</td>\n",
       "      <td>4206</td>\n",
       "      <td>4368</td>\n",
       "      <td>1</td>\n",
       "      <td>51100</td>\n",
       "      <td>51</td>\n",
       "      <td>2</td>\n",
       "      <td>1.0</td>\n",
       "      <td>1.0</td>\n",
       "      <td>0.0</td>\n",
       "    </tr>\n",
       "    <tr>\n",
       "      <th>7</th>\n",
       "      <td>303138</td>\n",
       "      <td>emergency_funds</td>\n",
       "      <td>31/08/2012</td>\n",
       "      <td>1</td>\n",
       "      <td>0</td>\n",
       "      <td>4300</td>\n",
       "      <td>1.02</td>\n",
       "      <td>886</td>\n",
       "      <td>1597</td>\n",
       "      <td>1</td>\n",
       "      <td>15000</td>\n",
       "      <td>59</td>\n",
       "      <td>2</td>\n",
       "      <td>0.0</td>\n",
       "      <td>0.0</td>\n",
       "      <td>1.0</td>\n",
       "    </tr>\n",
       "    <tr>\n",
       "      <th>8</th>\n",
       "      <td>91475</td>\n",
       "      <td>investment</td>\n",
       "      <td>25/05/2012</td>\n",
       "      <td>1</td>\n",
       "      <td>0</td>\n",
       "      <td>3900</td>\n",
       "      <td>0.65</td>\n",
       "      <td>1837</td>\n",
       "      <td>3795</td>\n",
       "      <td>1</td>\n",
       "      <td>12000</td>\n",
       "      <td>24</td>\n",
       "      <td>1</td>\n",
       "      <td>1.0</td>\n",
       "      <td>1.0</td>\n",
       "      <td>0.0</td>\n",
       "    </tr>\n",
       "  </tbody>\n",
       "</table>\n",
       "</div>"
      ],
      "text/plain": [
       "   loan_id     loan_purpose        date  loan_granted  is_first_loan  \\\n",
       "3   580653            other  27/06/2012             1              0   \n",
       "4   172419         business  21/05/2012             1              1   \n",
       "6   780070         business  14/03/2012             1              0   \n",
       "7   303138  emergency_funds  31/08/2012             1              0   \n",
       "8    91475       investment  25/05/2012             1              0   \n",
       "\n",
       "   total_credit_card_limit  avg_percentage_credit_card_limit_used_last_year  \\\n",
       "3                     5400                                             0.52   \n",
       "4                     2900                                             0.76   \n",
       "6                     7800                                             0.30   \n",
       "7                     4300                                             1.02   \n",
       "8                     3900                                             0.65   \n",
       "\n",
       "   saving_amount  checking_amount  is_employed  yearly_salary  age  \\\n",
       "3           3345             2764            1          15800   58   \n",
       "4           1050             3695            1          34800   31   \n",
       "6           4206             4368            1          51100   51   \n",
       "7            886             1597            1          15000   59   \n",
       "8           1837             3795            1          12000   24   \n",
       "\n",
       "   dependent_number  final_loan_repaid  final_fully_repaid_previous_loans  \\\n",
       "3                 4                1.0                                1.0   \n",
       "4                 4                0.0                               -1.0   \n",
       "6                 2                1.0                                1.0   \n",
       "7                 2                0.0                                0.0   \n",
       "8                 1                1.0                                1.0   \n",
       "\n",
       "   final_currently_repaying_other_loans  \n",
       "3                                   0.0  \n",
       "4                                  -1.0  \n",
       "6                                   0.0  \n",
       "7                                   1.0  \n",
       "8                                   0.0  "
      ]
     },
     "execution_count": 28,
     "metadata": {},
     "output_type": "execute_result"
    }
   ],
   "source": [
    "loan_granted=merged_loans_copy[merged_loans_copy['loan_granted']==1]\n",
    "loan_granted.head()"
   ]
  },
  {
   "cell_type": "code",
   "execution_count": 217,
   "metadata": {},
   "outputs": [
    {
     "data": {
      "image/png": "[encoded data removed]",
      "text/plain": [
       "<Figure size 432x288 with 1 Axes>"
      ]
     },
     "metadata": {
      "needs_background": "light"
     },
     "output_type": "display_data"
    }
   ],
   "source": [
    "ax = loan_granted['loan_repaid'].value_counts(normalize=True).plot.bar()\n",
    "\n",
    "plt.xlabel('Loan repaid')   # Set the x-axis label\n",
    "plt.ylabel('Percentage')  # Set the y-axis label\n",
    "plt.title('Proportion of repaid and defaulted loans among granted loans', fontsize=15)\n",
    "plt.xticks((0,1), [\"Repaid\", \"Not repaid\"])\n",
    "ax.set_ylim(0,0.8)\n",
    "\n",
    "for p in ax.patches:\n",
    "    \n",
    "    ax.annotate(str(p.get_height()), (p.get_x() * 1.01, p.get_height() * 1.01))"
   ]
  },
  {
   "cell_type": "markdown",
   "metadata": {},
   "source": [
    "# Random Forest Model"
   ]
  },
  {
   "cell_type": "code",
   "execution_count": 29,
   "metadata": {},
   "outputs": [],
   "source": [
    "# Copy dataset\n",
    "loans_tr=merged_loans_copy.copy()"
   ]
  },
  {
   "cell_type": "code",
   "execution_count": 30,
   "metadata": {},
   "outputs": [],
   "source": [
    "# Filter for only granted loans\n",
    "granted_loans = loans_tr.loc[(loans_tr['loan_granted'] == 1)]"
   ]
  },
  {
   "cell_type": "code",
   "execution_count": 31,
   "metadata": {},
   "outputs": [
    {
     "name": "stdout",
     "output_type": "stream",
     "text": [
      "number of granted loans: 47654 \n"
     ]
    }
   ],
   "source": [
    "print(f'number of granted loans: {granted_loans.shape[0]} ')"
   ]
  },
  {
   "cell_type": "code",
   "execution_count": 55,
   "metadata": {},
   "outputs": [],
   "source": [
    "rf = RandomForestClassifier(random_state = 42)"
   ]
  },
  {
   "cell_type": "code",
   "execution_count": 186,
   "metadata": {},
   "outputs": [],
   "source": [
    "class LoanClassifier:\n",
    "    '''\n",
    "    Use RandomForestClassifier to classified a loan as fully-paid or default.\n",
    "    '''\n",
    "    \n",
    "    def __init__(self, model_name, param, features):\n",
    "        '''\n",
    "        Initialize and create model.\n",
    "        \n",
    "        Parameters:\n",
    "        - model_name: name of the model\n",
    "        - param: a dictionary of parameters for grid search\n",
    "        - features: a list of features to be used in the model\n",
    "        '''\n",
    "        \n",
    "        self.model_name = model_name\n",
    "        self.model = GridSearchCV(estimator=RandomForestClassifier(random_state=42), \n",
    "                                  param_grid=param, cv=3, n_jobs=-1, verbose=2)\n",
    "        self.features = features\n",
    "        self.feature_imp = self.metrics = None\n",
    "        self.y_predict = self.predict_proba = None\n",
    "        self.explainer = None\n",
    "        self.predict_fn_rf = lambda x: self.model.predict_proba(x).astype(float)\n",
    "    \n",
    "    def train_n_evaluate(self, X_train, Y_train, X_test, Y_test):\n",
    "        '''\n",
    "        Train and evaluate model.\n",
    "        \n",
    "        parameters:\n",
    "        - X_train: training set\n",
    "        - y_train: class label for training set\n",
    "        - X_test: test set\n",
    "        - y_test: class label for test set\n",
    "        '''\n",
    "        \n",
    "        start_time = time.time()\n",
    "        self.model.fit(X_train, Y_train)                                # fit the model\n",
    "        stop_time = time.time()\n",
    "        self.y_predict = self.model.predict(X_test)                     # predictions for test set\n",
    "        self.predict_proba = self.model.predict_proba(X_test)           # prediction' probability\n",
    "        c_matrix = metrics.confusion_matrix(Y_test, self.y_predict)     # confusion matrix\n",
    "        \n",
    "        # build a dictionary of performance metrics\n",
    "        metrics_dict = {'model_name': self.model_name,\n",
    "                        'true_neg': c_matrix[0][0],\n",
    "                        'true_pos': c_matrix[1][1],\n",
    "                        'false_neg': c_matrix[1][0],\n",
    "                        'false_pos': c_matrix[0][1],\n",
    "                        'accuracy': metrics.accuracy_score(Y_test, self.y_predict),\n",
    "                        'precision': metrics.precision_score(Y_test, self.y_predict),\n",
    "                        'recall': metrics.recall_score(Y_test, self.y_predict),\n",
    "                        'f1_score': metrics.f1_score(Y_test, self.y_predict),\n",
    "                        'training_time': round(stop_time - start_time)}\n",
    "        self.metrics = pd.DataFrame(metrics_dict, index=[0])\n",
    "        \n",
    "        # sort feature importance in descending order\n",
    "        self.feature_imp = pd.Series(self.model.best_estimator_.feature_importances_, \n",
    "                                index=self.features).sort_values(ascending=False)\n",
    "    \n",
    "        # create explainer to help explain the prediction\n",
    "        self.explainer = lime_tabular.LimeTabularExplainer(X_train.values, feature_names = X_train.columns,\n",
    "                                              class_names=['Loan Repaid', 'Default'], kernel_width=5)\n",
    "    \n",
    "    def explain_prediction(self, row, num_features=5):\n",
    "        '''\n",
    "        Show horizontal bar plot of prediction's probability along with the score for the top 5 features.\n",
    "        \n",
    "        Parameters:\n",
    "        - row: row's number in the test set\n",
    "        - num_features: the number of top features to show along with its' score\n",
    "        '''\n",
    "        \n",
    "        # show prediction and explanation, show the top 5 features\n",
    "        exp = self.explainer.explain_instance(row, self.predict_fn_rf, num_features=num_features)\n",
    "        exp.show_in_notebook(show_all=False)\n",
    "        return exp\n",
    "    \n",
    "    def plot_feature_importance(self, figsize=(6, 6)):\n",
    "        '''\n",
    "        Create a bar plot of feature importance\n",
    "        \n",
    "        Parameter:\n",
    "        - figsize: size of the figure\n",
    "        '''\n",
    "        \n",
    "        fig, ax = plt.subplots(figsize=figsize)\n",
    "        \n",
    "        # create a bar plot of feature importance\n",
    "        sns.barplot(x=self.feature_imp, y=self.feature_imp.index)\n",
    "\n",
    "        # add labels to graph\n",
    "        plt.xlabel('Score')\n",
    "        plt.ylabel('Features')\n",
    "        plt.title('Feature Importance')\n",
    "        plt.show()"
   ]
  },
  {
   "cell_type": "code",
   "execution_count": 10,
   "metadata": {},
   "outputs": [],
   "source": [
    "# Split data to train and test data:\n",
    "cols_of_interest = ['loan_granted',\n",
    " 'is_first_loan', 'total_credit_card_limit', 'saving_amount',\n",
    " 'checking_amount', 'is_employed', 'yearly_salary', 'age', 'dependent_number',\n",
    " 'loan_repaid', 'fully_repaid_previous_loans',\n",
    " 'currently_repaying_other_loans', 'avg_percentage_credit_card_limit']\n",
    "\n",
    "train_original=granted_loans[cols_of_interest]\n",
    "train_dummy = pd.get_dummies(train_original)"
   ]
  },
  {
   "cell_type": "code",
   "execution_count": 178,
   "metadata": {},
   "outputs": [],
   "source": [
    "X = train_dummy.drop(['loan_repaid'], axis=1)"
   ]
  },
  {
   "cell_type": "code",
   "execution_count": 179,
   "metadata": {},
   "outputs": [],
   "source": [
    "Y = train_dummy.loan_repaid"
   ]
  },
  {
   "cell_type": "code",
   "execution_count": 180,
   "metadata": {},
   "outputs": [],
   "source": [
    "X_train, X_test, Y_train, Y_test = train_test_split(X,Y, test_size=0.3, stratify=Y)"
   ]
  },
  {
   "cell_type": "code",
   "execution_count": 181,
   "metadata": {},
   "outputs": [],
   "source": [
    "X2 = pd.concat([X_train, X_test])"
   ]
  },
  {
   "cell_type": "code",
   "execution_count": 182,
   "metadata": {},
   "outputs": [
    {
     "data": {
      "text/plain": [
       "loan_granted                        0\n",
       "is_first_loan                       0\n",
       "total_credit_card_limit             0\n",
       "saving_amount                       0\n",
       "checking_amount                     0\n",
       "is_employed                         0\n",
       "yearly_salary                       0\n",
       "age                                 0\n",
       "dependent_number                    0\n",
       "fully_repaid_previous_loans         0\n",
       "currently_repaying_other_loans      0\n",
       "avg_percentage_credit_card_limit    0\n",
       "dtype: int64"
      ]
     },
     "execution_count": 182,
     "metadata": {},
     "output_type": "execute_result"
    }
   ],
   "source": [
    "X2.isna().sum()"
   ]
  },
  {
   "cell_type": "code",
   "execution_count": 165,
   "metadata": {},
   "outputs": [],
   "source": [
    "# parameters for base model and reduced features model\n",
    "param = {'bootstrap': [True], 'n_estimators': [100]}"
   ]
  },
  {
   "cell_type": "code",
   "execution_count": 221,
   "metadata": {},
   "outputs": [
    {
     "name": "stderr",
     "output_type": "stream",
     "text": [
      "C:\\Users\\lkond\\Dropbox\\Programok\\Python\\Anaconda\\lib\\site-packages\\seaborn\\_decorators.py:43: FutureWarning: Pass the following variable as a keyword arg: x. From version 0.12, the only valid positional argument will be `data`, and passing other arguments without an explicit keyword will result in an error or misinterpretation.\n",
      "  FutureWarning\n"
     ]
    },
    {
     "data": {
      "image/png": "[encoded data removed]",
      "text/plain": [
       "<Figure size 432x288 with 1 Axes>"
      ]
     },
     "metadata": {
      "needs_background": "light"
     },
     "output_type": "display_data"
    }
   ],
   "source": [
    "proportion = round(len(Y_train[Y_train==1]) / len(Y_train[Y_train==0]),2)\n",
    "\n",
    "fig, ax = plt.subplots()\n",
    "sns.countplot(Y_train, ax=ax)\n",
    "\n",
    "\n",
    "plt.yticks([])\n",
    "plt.ylabel('Frequency', size=13)\n",
    "plt.xlabel('Loan repaid', size=13)\n",
    "plt.title('Train Data Distribution (70%)\\n' + r'$\\frac{LoanRepaid}{Default}=' + str(proportion) + '$\\n', size=15)\n",
    "plt.xticks((0,1), [\"Default\", \"Repaid\"])\n",
    "\n",
    "for p in ax.patches:\n",
    "\n",
    "    ax.annotate(str(p.get_height()), (p.get_x() * 1.01, p.get_height() * 1.01))\n",
    "\n",
    "plt.show()"
   ]
  },
  {
   "cell_type": "markdown",
   "metadata": {},
   "source": [
    "## First Random Forest Model: Base model"
   ]
  },
  {
   "cell_type": "code",
   "execution_count": 187,
   "metadata": {},
   "outputs": [
    {
     "name": "stdout",
     "output_type": "stream",
     "text": [
      "Fitting 3 folds for each of 1 candidates, totalling 3 fits\n"
     ]
    },
    {
     "name": "stderr",
     "output_type": "stream",
     "text": [
      "[Parallel(n_jobs=-1)]: Using backend LokyBackend with 4 concurrent workers.\n",
      "[Parallel(n_jobs=-1)]: Done   3 out of   3 | elapsed:    8.4s finished\n"
     ]
    },
    {
     "data": {
      "text/html": [
       "<div>\n",
       "<style scoped>\n",
       "    .dataframe tbody tr th:only-of-type {\n",
       "        vertical-align: middle;\n",
       "    }\n",
       "\n",
       "    .dataframe tbody tr th {\n",
       "        vertical-align: top;\n",
       "    }\n",
       "\n",
       "    .dataframe thead th {\n",
       "        text-align: right;\n",
       "    }\n",
       "</style>\n",
       "<table border=\"1\" class=\"dataframe\">\n",
       "  <thead>\n",
       "    <tr style=\"text-align: right;\">\n",
       "      <th></th>\n",
       "      <th>model_name</th>\n",
       "      <th>true_neg</th>\n",
       "      <th>true_pos</th>\n",
       "      <th>false_neg</th>\n",
       "      <th>false_pos</th>\n",
       "      <th>accuracy</th>\n",
       "      <th>precision</th>\n",
       "      <th>recall</th>\n",
       "      <th>f1_score</th>\n",
       "      <th>training_time</th>\n",
       "    </tr>\n",
       "  </thead>\n",
       "  <tbody>\n",
       "    <tr>\n",
       "      <th>0</th>\n",
       "      <td>base_model</td>\n",
       "      <td>4615</td>\n",
       "      <td>8545</td>\n",
       "      <td>667</td>\n",
       "      <td>470</td>\n",
       "      <td>0.920473</td>\n",
       "      <td>0.947865</td>\n",
       "      <td>0.927594</td>\n",
       "      <td>0.93762</td>\n",
       "      <td>13</td>\n",
       "    </tr>\n",
       "  </tbody>\n",
       "</table>\n",
       "</div>"
      ],
      "text/plain": [
       "   model_name  true_neg  true_pos  false_neg  false_pos  accuracy  precision  \\\n",
       "0  base_model      4615      8545        667        470  0.920473   0.947865   \n",
       "\n",
       "     recall  f1_score  training_time  \n",
       "0  0.927594   0.93762             13  "
      ]
     },
     "execution_count": 187,
     "metadata": {},
     "output_type": "execute_result"
    }
   ],
   "source": [
    "base_model = LoanClassifier('base_model', param, list(X_train.columns))\n",
    "base_model.train_n_evaluate(X_train, Y_train, X_test, Y_test)\n",
    "base_model.metrics"
   ]
  },
  {
   "cell_type": "code",
   "execution_count": 188,
   "metadata": {},
   "outputs": [
    {
     "data": {
      "image/png": "[encoded data removed]",
      "text/plain": [
       "<Figure size 576x1080 with 1 Axes>"
      ]
     },
     "metadata": {
      "needs_background": "light"
     },
     "output_type": "display_data"
    }
   ],
   "source": [
    "base_model.plot_feature_importance((8, 15))"
   ]
  },
  {
   "cell_type": "markdown",
   "metadata": {},
   "source": [
    "## Second Random Forest Model: Model 1"
   ]
  },
  {
   "cell_type": "code",
   "execution_count": 189,
   "metadata": {},
   "outputs": [
    {
     "name": "stdout",
     "output_type": "stream",
     "text": [
      "Fitting 3 folds for each of 1 candidates, totalling 3 fits\n"
     ]
    },
    {
     "name": "stderr",
     "output_type": "stream",
     "text": [
      "[Parallel(n_jobs=-1)]: Using backend LokyBackend with 4 concurrent workers.\n",
      "[Parallel(n_jobs=-1)]: Done   3 out of   3 | elapsed:    5.8s finished\n"
     ]
    },
    {
     "data": {
      "text/html": [
       "<div>\n",
       "<style scoped>\n",
       "    .dataframe tbody tr th:only-of-type {\n",
       "        vertical-align: middle;\n",
       "    }\n",
       "\n",
       "    .dataframe tbody tr th {\n",
       "        vertical-align: top;\n",
       "    }\n",
       "\n",
       "    .dataframe thead th {\n",
       "        text-align: right;\n",
       "    }\n",
       "</style>\n",
       "<table border=\"1\" class=\"dataframe\">\n",
       "  <thead>\n",
       "    <tr style=\"text-align: right;\">\n",
       "      <th></th>\n",
       "      <th>model_name</th>\n",
       "      <th>true_neg</th>\n",
       "      <th>true_pos</th>\n",
       "      <th>false_neg</th>\n",
       "      <th>false_pos</th>\n",
       "      <th>accuracy</th>\n",
       "      <th>precision</th>\n",
       "      <th>recall</th>\n",
       "      <th>f1_score</th>\n",
       "      <th>training_time</th>\n",
       "    </tr>\n",
       "  </thead>\n",
       "  <tbody>\n",
       "    <tr>\n",
       "      <th>0</th>\n",
       "      <td>feature_reduction</td>\n",
       "      <td>4614</td>\n",
       "      <td>8515</td>\n",
       "      <td>697</td>\n",
       "      <td>471</td>\n",
       "      <td>0.918305</td>\n",
       "      <td>0.947585</td>\n",
       "      <td>0.924338</td>\n",
       "      <td>0.935817</td>\n",
       "      <td>10</td>\n",
       "    </tr>\n",
       "  </tbody>\n",
       "</table>\n",
       "</div>"
      ],
      "text/plain": [
       "          model_name  true_neg  true_pos  false_neg  false_pos  accuracy  \\\n",
       "0  feature_reduction      4614      8515        697        471  0.918305   \n",
       "\n",
       "   precision    recall  f1_score  training_time  \n",
       "0   0.947585  0.924338  0.935817             10  "
      ]
     },
     "execution_count": 189,
     "metadata": {},
     "output_type": "execute_result"
    }
   ],
   "source": [
    "# select features with important score > 0.04\n",
    "features_m1 = list(base_model.feature_imp[base_model.feature_imp > 0.04].index)\n",
    "\n",
    "model1 = LoanClassifier('feature_reduction', param, features_m1)\n",
    "model1.train_n_evaluate(X_train[features_m1], Y_train, X_test[features_m1], Y_test)\n",
    "model1.metrics"
   ]
  },
  {
   "cell_type": "code",
   "execution_count": 190,
   "metadata": {},
   "outputs": [
    {
     "data": {
      "image/png": "[encoded data removed]",
      "text/plain": [
       "<Figure size 432x432 with 1 Axes>"
      ]
     },
     "metadata": {
      "needs_background": "light"
     },
     "output_type": "display_data"
    }
   ],
   "source": [
    "\n",
    "model1.plot_feature_importance()"
   ]
  },
  {
   "cell_type": "markdown",
   "metadata": {},
   "source": [
    "### Model 2 with grid search"
   ]
  },
  {
   "cell_type": "code",
   "execution_count": 191,
   "metadata": {},
   "outputs": [
    {
     "name": "stdout",
     "output_type": "stream",
     "text": [
      "Fitting 3 folds for each of 81 candidates, totalling 243 fits\n"
     ]
    },
    {
     "name": "stderr",
     "output_type": "stream",
     "text": [
      "[Parallel(n_jobs=-1)]: Using backend LokyBackend with 4 concurrent workers.\n",
      "[Parallel(n_jobs=-1)]: Done  33 tasks      | elapsed:   32.0s\n",
      "[Parallel(n_jobs=-1)]: Done 154 tasks      | elapsed:  2.5min\n",
      "[Parallel(n_jobs=-1)]: Done 243 out of 243 | elapsed:  4.1min finished\n"
     ]
    },
    {
     "data": {
      "text/html": [
       "<div>\n",
       "<style scoped>\n",
       "    .dataframe tbody tr th:only-of-type {\n",
       "        vertical-align: middle;\n",
       "    }\n",
       "\n",
       "    .dataframe tbody tr th {\n",
       "        vertical-align: top;\n",
       "    }\n",
       "\n",
       "    .dataframe thead th {\n",
       "        text-align: right;\n",
       "    }\n",
       "</style>\n",
       "<table border=\"1\" class=\"dataframe\">\n",
       "  <thead>\n",
       "    <tr style=\"text-align: right;\">\n",
       "      <th></th>\n",
       "      <th>model_name</th>\n",
       "      <th>true_neg</th>\n",
       "      <th>true_pos</th>\n",
       "      <th>false_neg</th>\n",
       "      <th>false_pos</th>\n",
       "      <th>accuracy</th>\n",
       "      <th>precision</th>\n",
       "      <th>recall</th>\n",
       "      <th>f1_score</th>\n",
       "      <th>training_time</th>\n",
       "    </tr>\n",
       "  </thead>\n",
       "  <tbody>\n",
       "    <tr>\n",
       "      <th>0</th>\n",
       "      <td>grid_search</td>\n",
       "      <td>4617</td>\n",
       "      <td>8528</td>\n",
       "      <td>684</td>\n",
       "      <td>468</td>\n",
       "      <td>0.919424</td>\n",
       "      <td>0.947977</td>\n",
       "      <td>0.925749</td>\n",
       "      <td>0.936731</td>\n",
       "      <td>252</td>\n",
       "    </tr>\n",
       "  </tbody>\n",
       "</table>\n",
       "</div>"
      ],
      "text/plain": [
       "    model_name  true_neg  true_pos  false_neg  false_pos  accuracy  precision  \\\n",
       "0  grid_search      4617      8528        684        468  0.919424   0.947977   \n",
       "\n",
       "     recall  f1_score  training_time  \n",
       "0  0.925749  0.936731            252  "
      ]
     },
     "execution_count": 191,
     "metadata": {},
     "output_type": "execute_result"
    }
   ],
   "source": [
    "param_grid = {'bootstrap': [True],\n",
    "              'max_depth': [10, 20, 30],\n",
    "              'max_features': ['sqrt'],\n",
    "              'min_samples_leaf': [5, 6, 7],\n",
    "              'min_samples_split': [6, 8, 10],\n",
    "              'n_estimators': [80, 100, 120]}\n",
    "\n",
    "model2 = LoanClassifier('grid_search', param_grid, features_m1)\n",
    "model2.train_n_evaluate(X_train[features_m1], Y_train, X_test[features_m1], Y_test)\n",
    "model2.metrics"
   ]
  },
  {
   "cell_type": "code",
   "execution_count": 109,
   "metadata": {},
   "outputs": [
    {
     "data": {
      "image/png": "[encoded data removed]",
      "text/plain": [
       "<Figure size 432x432 with 1 Axes>"
      ]
     },
     "metadata": {
      "needs_background": "light"
     },
     "output_type": "display_data"
    }
   ],
   "source": [
    "model2.plot_feature_importance()"
   ]
  },
  {
   "cell_type": "markdown",
   "metadata": {},
   "source": [
    "### Model Comparison"
   ]
  },
  {
   "cell_type": "markdown",
   "metadata": {},
   "source": [
    "#### ROC Curve"
   ]
  },
  {
   "cell_type": "markdown",
   "metadata": {},
   "source": [
    "ROC curve shows the trade-off between the true positive rate (TPR) and the false positive rate (FPR). Any increase in TPR occurs at the cost of an increase in FPR. The area under the ROC curve is a measure of the accuracy of the model."
   ]
  },
  {
   "cell_type": "code",
   "execution_count": 192,
   "metadata": {},
   "outputs": [
    {
     "data": {
      "image/png": "[encoded data removed]",
      "text/plain": [
       "<Figure size 576x432 with 1 Axes>"
      ]
     },
     "metadata": {
      "needs_background": "light"
     },
     "output_type": "display_data"
    }
   ],
   "source": [
    "# plot roc curve for all models\n",
    "fig, ax = plt.subplots(figsize=(8, 6))\n",
    "labels = ['base_model', 'feature_reduction', 'grid_search']\n",
    "\n",
    "# iterate through all the models and plot roc curve for each model\n",
    "for i, model in enumerate([base_model, model1, model2]):\n",
    "    fpr, tpr, _ = metrics.roc_curve(Y_test, model.predict_proba[:,1])\n",
    "    plt.plot(fpr, tpr, linewidth=2, label=labels[i])\n",
    "\n",
    "plt.legend(loc='best', frameon=False)\n",
    "plt.plot([0, 1], [0, 1], 'k--')\n",
    "plt.axis([0, 1, 0, 1])\n",
    "plt.xlabel('False Positive Rate')\n",
    "plt.ylabel('True Positive Rate')\n",
    "plt.title('ROC Curve')\n",
    "plt.show()"
   ]
  },
  {
   "cell_type": "markdown",
   "metadata": {},
   "source": [
    "The ROC curves appear to be overlapped, and it looks like that base model and grid search (model2) performs slightly better than model 1 (feature_reduction). "
   ]
  },
  {
   "cell_type": "markdown",
   "metadata": {},
   "source": [
    "#### Performance metrics"
   ]
  },
  {
   "cell_type": "markdown",
   "metadata": {},
   "source": [
    "I compare the three models based on the following metrics:"
   ]
  },
  {
   "cell_type": "markdown",
   "metadata": {},
   "source": [
    "* Accuracy = (True Positives + True Negatives) / (Positive + Negative)\n",
    "* Precision = True Positive / (True Positive + False Positive)\n",
    "* Sensitivity (Recall) = True Positive / Positive\n",
    "* F1 score (harmonic mean of precision and sensitivity) = (2*precision*sensitivity) / (precision+sensitivity)"
   ]
  },
  {
   "cell_type": "code",
   "execution_count": 193,
   "metadata": {},
   "outputs": [
    {
     "data": {
      "text/html": [
       "<div>\n",
       "<style scoped>\n",
       "    .dataframe tbody tr th:only-of-type {\n",
       "        vertical-align: middle;\n",
       "    }\n",
       "\n",
       "    .dataframe tbody tr th {\n",
       "        vertical-align: top;\n",
       "    }\n",
       "\n",
       "    .dataframe thead th {\n",
       "        text-align: right;\n",
       "    }\n",
       "</style>\n",
       "<table border=\"1\" class=\"dataframe\">\n",
       "  <thead>\n",
       "    <tr style=\"text-align: right;\">\n",
       "      <th></th>\n",
       "      <th>model_name</th>\n",
       "      <th>true_neg</th>\n",
       "      <th>true_pos</th>\n",
       "      <th>false_neg</th>\n",
       "      <th>false_pos</th>\n",
       "      <th>accuracy</th>\n",
       "      <th>precision</th>\n",
       "      <th>recall</th>\n",
       "      <th>f1_score</th>\n",
       "      <th>training_time</th>\n",
       "    </tr>\n",
       "  </thead>\n",
       "  <tbody>\n",
       "    <tr>\n",
       "      <th>0</th>\n",
       "      <td>base_model</td>\n",
       "      <td>4615</td>\n",
       "      <td>8545</td>\n",
       "      <td>667</td>\n",
       "      <td>470</td>\n",
       "      <td>0.920473</td>\n",
       "      <td>0.947865</td>\n",
       "      <td>0.927594</td>\n",
       "      <td>0.937620</td>\n",
       "      <td>13</td>\n",
       "    </tr>\n",
       "    <tr>\n",
       "      <th>0</th>\n",
       "      <td>feature_reduction</td>\n",
       "      <td>4614</td>\n",
       "      <td>8515</td>\n",
       "      <td>697</td>\n",
       "      <td>471</td>\n",
       "      <td>0.918305</td>\n",
       "      <td>0.947585</td>\n",
       "      <td>0.924338</td>\n",
       "      <td>0.935817</td>\n",
       "      <td>10</td>\n",
       "    </tr>\n",
       "    <tr>\n",
       "      <th>0</th>\n",
       "      <td>grid_search</td>\n",
       "      <td>4617</td>\n",
       "      <td>8528</td>\n",
       "      <td>684</td>\n",
       "      <td>468</td>\n",
       "      <td>0.919424</td>\n",
       "      <td>0.947977</td>\n",
       "      <td>0.925749</td>\n",
       "      <td>0.936731</td>\n",
       "      <td>252</td>\n",
       "    </tr>\n",
       "  </tbody>\n",
       "</table>\n",
       "</div>"
      ],
      "text/plain": [
       "          model_name  true_neg  true_pos  false_neg  false_pos  accuracy  \\\n",
       "0         base_model      4615      8545        667        470  0.920473   \n",
       "0  feature_reduction      4614      8515        697        471  0.918305   \n",
       "0        grid_search      4617      8528        684        468  0.919424   \n",
       "\n",
       "   precision    recall  f1_score  training_time  \n",
       "0   0.947865  0.927594  0.937620             13  \n",
       "0   0.947585  0.924338  0.935817             10  \n",
       "0   0.947977  0.925749  0.936731            252  "
      ]
     },
     "execution_count": 193,
     "metadata": {},
     "output_type": "execute_result"
    }
   ],
   "source": [
    "# a data frame that contains performance metrics for all model\n",
    "metrics_all = pd.concat([base_model.metrics, model1.metrics, model2.metrics])\n",
    "\n",
    "metrics_all"
   ]
  },
  {
   "cell_type": "markdown",
   "metadata": {},
   "source": [
    "* The accuracy score is almost the same for the three models\n",
    "* The base model has the highest accuracy, TP and recall, lowest false negative.\n",
    "* Model 2 is almost as much good as the base model, only the TP cases are slightly less. However, it took the longest time to train.\n",
    "\n",
    "After evaluating the models, I chose to use the base model as a loan classifier. However, since it uses all features in making the prediction, it is more likely to overfit the model. "
   ]
  },
  {
   "cell_type": "markdown",
   "metadata": {},
   "source": [
    "### Model Prediction"
   ]
  },
  {
   "cell_type": "code",
   "execution_count": 114,
   "metadata": {},
   "outputs": [],
   "source": [
    "test_fp = X_test.iloc[0]                                                      # obs being predicted as fully-paid\n",
    "test_df = X_test.loc[Y_test[base_model.predict_proba[:, 1] > 0.8].index[0]]   # obs being predicted as default"
   ]
  },
  {
   "cell_type": "code",
   "execution_count": 258,
   "metadata": {},
   "outputs": [
    {
     "data": {
      "text/html": [
       "<div>\n",
       "<style scoped>\n",
       "    .dataframe tbody tr th:only-of-type {\n",
       "        vertical-align: middle;\n",
       "    }\n",
       "\n",
       "    .dataframe tbody tr th {\n",
       "        vertical-align: top;\n",
       "    }\n",
       "\n",
       "    .dataframe thead th {\n",
       "        text-align: right;\n",
       "    }\n",
       "</style>\n",
       "<table border=\"1\" class=\"dataframe\">\n",
       "  <thead>\n",
       "    <tr style=\"text-align: right;\">\n",
       "      <th></th>\n",
       "      <th>loan_granted</th>\n",
       "      <th>actual_label</th>\n",
       "      <th>predict_label</th>\n",
       "      <th>prob_default</th>\n",
       "      <th>prob_fully_paid</th>\n",
       "    </tr>\n",
       "  </thead>\n",
       "  <tbody>\n",
       "    <tr>\n",
       "      <th>68722</th>\n",
       "      <td>1</td>\n",
       "      <td>loan repaid</td>\n",
       "      <td>loan repaid</td>\n",
       "      <td>0.00</td>\n",
       "      <td>1.00</td>\n",
       "    </tr>\n",
       "    <tr>\n",
       "      <th>12282</th>\n",
       "      <td>1</td>\n",
       "      <td>loan repaid</td>\n",
       "      <td>loan repaid</td>\n",
       "      <td>0.00</td>\n",
       "      <td>1.00</td>\n",
       "    </tr>\n",
       "    <tr>\n",
       "      <th>51094</th>\n",
       "      <td>1</td>\n",
       "      <td>loan repaid</td>\n",
       "      <td>loan repaid</td>\n",
       "      <td>0.03</td>\n",
       "      <td>0.97</td>\n",
       "    </tr>\n",
       "    <tr>\n",
       "      <th>58685</th>\n",
       "      <td>1</td>\n",
       "      <td>loan repaid</td>\n",
       "      <td>loan repaid</td>\n",
       "      <td>0.23</td>\n",
       "      <td>0.77</td>\n",
       "    </tr>\n",
       "    <tr>\n",
       "      <th>49125</th>\n",
       "      <td>1</td>\n",
       "      <td>default</td>\n",
       "      <td>loan repaid</td>\n",
       "      <td>0.41</td>\n",
       "      <td>0.59</td>\n",
       "    </tr>\n",
       "    <tr>\n",
       "      <th>71173</th>\n",
       "      <td>1</td>\n",
       "      <td>loan repaid</td>\n",
       "      <td>loan repaid</td>\n",
       "      <td>0.00</td>\n",
       "      <td>1.00</td>\n",
       "    </tr>\n",
       "    <tr>\n",
       "      <th>82027</th>\n",
       "      <td>1</td>\n",
       "      <td>loan repaid</td>\n",
       "      <td>default</td>\n",
       "      <td>0.89</td>\n",
       "      <td>0.11</td>\n",
       "    </tr>\n",
       "    <tr>\n",
       "      <th>4263</th>\n",
       "      <td>1</td>\n",
       "      <td>default</td>\n",
       "      <td>default</td>\n",
       "      <td>0.78</td>\n",
       "      <td>0.22</td>\n",
       "    </tr>\n",
       "  </tbody>\n",
       "</table>\n",
       "</div>"
      ],
      "text/plain": [
       "       loan_granted actual_label predict_label  prob_default  prob_fully_paid\n",
       "68722             1  loan repaid   loan repaid          0.00             1.00\n",
       "12282             1  loan repaid   loan repaid          0.00             1.00\n",
       "51094             1  loan repaid   loan repaid          0.03             0.97\n",
       "58685             1  loan repaid   loan repaid          0.23             0.77\n",
       "49125             1      default   loan repaid          0.41             0.59\n",
       "71173             1  loan repaid   loan repaid          0.00             1.00\n",
       "82027             1  loan repaid       default          0.89             0.11\n",
       "4263              1      default       default          0.78             0.22"
      ]
     },
     "execution_count": 258,
     "metadata": {},
     "output_type": "execute_result"
    }
   ],
   "source": [
    "# Making prediction with selected model on test dataset (base model)\n",
    "best_model = base_model\n",
    "rf_predictions = pd.concat([X_test[['loan_granted']]])\n",
    "rf_predictions['actual_label'] = Y_test\n",
    "rf_predictions['actual_label'] = rf_predictions['actual_label'].apply(lambda x: 'loan repaid' if x == 1 else 'default')\n",
    "rf_predictions['predict_label'] = best_model.y_predict\n",
    "rf_predictions['predict_label'] = rf_predictions['predict_label'].apply(lambda x: 'loan repaid' if x == 1 else 'default')\n",
    "rf_predictions['prob_default'] = best_model.predict_proba[:,0]      # probability of default\n",
    "rf_predictions['prob_fully_paid'] = best_model.predict_proba[:, 1] # probability of fully-paid\n",
    "\n",
    "rf_predictions.head(8)"
   ]
  },
  {
   "cell_type": "code",
   "execution_count": 208,
   "metadata": {},
   "outputs": [
    {
     "data": {
      "text/html": [
       "<div>\n",
       "<style scoped>\n",
       "    .dataframe tbody tr th:only-of-type {\n",
       "        vertical-align: middle;\n",
       "    }\n",
       "\n",
       "    .dataframe tbody tr th {\n",
       "        vertical-align: top;\n",
       "    }\n",
       "\n",
       "    .dataframe thead th {\n",
       "        text-align: right;\n",
       "    }\n",
       "</style>\n",
       "<table border=\"1\" class=\"dataframe\">\n",
       "  <thead>\n",
       "    <tr style=\"text-align: right;\">\n",
       "      <th></th>\n",
       "      <th>loan_granted</th>\n",
       "      <th>actual_label</th>\n",
       "      <th>predict_label</th>\n",
       "      <th>prob_fully_paid</th>\n",
       "      <th>prob_default</th>\n",
       "    </tr>\n",
       "  </thead>\n",
       "  <tbody>\n",
       "    <tr>\n",
       "      <th>49125</th>\n",
       "      <td>1</td>\n",
       "      <td>default</td>\n",
       "      <td>loan repaid</td>\n",
       "      <td>0.41</td>\n",
       "      <td>0.59</td>\n",
       "    </tr>\n",
       "    <tr>\n",
       "      <th>82027</th>\n",
       "      <td>1</td>\n",
       "      <td>loan repaid</td>\n",
       "      <td>default</td>\n",
       "      <td>0.89</td>\n",
       "      <td>0.11</td>\n",
       "    </tr>\n",
       "    <tr>\n",
       "      <th>18179</th>\n",
       "      <td>1</td>\n",
       "      <td>default</td>\n",
       "      <td>loan repaid</td>\n",
       "      <td>0.45</td>\n",
       "      <td>0.55</td>\n",
       "    </tr>\n",
       "    <tr>\n",
       "      <th>2271</th>\n",
       "      <td>1</td>\n",
       "      <td>loan repaid</td>\n",
       "      <td>default</td>\n",
       "      <td>0.97</td>\n",
       "      <td>0.03</td>\n",
       "    </tr>\n",
       "    <tr>\n",
       "      <th>20009</th>\n",
       "      <td>1</td>\n",
       "      <td>loan repaid</td>\n",
       "      <td>default</td>\n",
       "      <td>0.77</td>\n",
       "      <td>0.23</td>\n",
       "    </tr>\n",
       "  </tbody>\n",
       "</table>\n",
       "</div>"
      ],
      "text/plain": [
       "       loan_granted actual_label predict_label  prob_fully_paid  prob_default\n",
       "49125             1      default   loan repaid             0.41          0.59\n",
       "82027             1  loan repaid       default             0.89          0.11\n",
       "18179             1      default   loan repaid             0.45          0.55\n",
       "2271              1  loan repaid       default             0.97          0.03\n",
       "20009             1  loan repaid       default             0.77          0.23"
      ]
     },
     "execution_count": 208,
     "metadata": {},
     "output_type": "execute_result"
    }
   ],
   "source": [
    "good = rf_predictions.loc[rf_predictions['actual_label'] != rf_predictions['predict_label']]\n",
    "good.head()"
   ]
  },
  {
   "cell_type": "code",
   "execution_count": 209,
   "metadata": {},
   "outputs": [
    {
     "data": {
      "text/plain": [
       "(1137, 5)"
      ]
     },
     "execution_count": 209,
     "metadata": {},
     "output_type": "execute_result"
    }
   ],
   "source": [
    "good.shape"
   ]
  },
  {
   "cell_type": "code",
   "execution_count": 218,
   "metadata": {},
   "outputs": [],
   "source": [
    "wrong = len(good)/len(rf_predictions)\n",
    "right = 1-wrong"
   ]
  },
  {
   "cell_type": "code",
   "execution_count": 255,
   "metadata": {},
   "outputs": [
    {
     "name": "stderr",
     "output_type": "stream",
     "text": [
      "C:\\Users\\lkond\\Dropbox\\Programok\\Python\\Anaconda\\lib\\site-packages\\seaborn\\_decorators.py:43: FutureWarning:\n",
      "\n",
      "Pass the following variables as keyword args: x, y. From version 0.12, the only valid positional argument will be `data`, and passing other arguments without an explicit keyword will result in an error or misinterpretation.\n",
      "\n"
     ]
    },
    {
     "data": {
      "text/plain": [
       "Text(0.5, 1.0, 'Distribution of chosen Model Predictions')"
      ]
     },
     "execution_count": 255,
     "metadata": {},
     "output_type": "execute_result"
    },
    {
     "data": {
      "image/png": "[encoded data removed]",
      "text/plain": [
       "<Figure size 576x432 with 1 Axes>"
      ]
     },
     "metadata": {
      "needs_background": "light"
     },
     "output_type": "display_data"
    }
   ],
   "source": [
    "objects = ('Wrong', 'Correct')\n",
    "y_pos = np.arange(len(objects))\n",
    "values = [wrong*100, right*100]\n",
    "\n",
    "\n",
    "plt.figure(figsize=(8, 6))\n",
    "splot=sns.barplot(y_pos, values)\n",
    "\n",
    "\n",
    "for p in splot.patches:\n",
    "    splot.annotate(format(p.get_height(), '.2f'), \n",
    "                   (p.get_x() + p.get_width() / 2., p.get_height()), \n",
    "                   ha = 'center', va = 'center', \n",
    "                   size=15,\n",
    "                   xytext = (0, -12), \n",
    "                   textcoords = 'offset points')\n",
    "plt.xticks(y_pos, objects)\n",
    "plt.xlabel(\"Prediction\", size=14)\n",
    "plt.ylabel(\"Percentage (%)\", size=14)\n",
    "plt.title('Distribution of chosen Model Predictions', size = 18)"
   ]
  },
  {
   "cell_type": "markdown",
   "metadata": {},
   "source": [
    "## Logistic Regression"
   ]
  },
  {
   "cell_type": "code",
   "execution_count": 12,
   "metadata": {},
   "outputs": [],
   "source": [
    "loans_lr=merged_loans_copy.copy()"
   ]
  },
  {
   "cell_type": "code",
   "execution_count": 15,
   "metadata": {},
   "outputs": [],
   "source": [
    "granted_loans_lr = loans_lr.loc[(loans_lr['loan_granted'] == 1)]"
   ]
  },
  {
   "cell_type": "code",
   "execution_count": 16,
   "metadata": {},
   "outputs": [],
   "source": [
    "train_original_lr=granted_loans_lr[cols_of_interest]\n",
    "train_dummy_lr = pd.get_dummies(train_original_lr)"
   ]
  },
  {
   "cell_type": "code",
   "execution_count": 17,
   "metadata": {},
   "outputs": [],
   "source": [
    "X = train_dummy.drop(['loan_repaid'], axis=1)"
   ]
  },
  {
   "cell_type": "code",
   "execution_count": 27,
   "metadata": {},
   "outputs": [],
   "source": [
    "Y = train_dummy.loan_repaid"
   ]
  },
  {
   "cell_type": "code",
   "execution_count": 33,
   "metadata": {},
   "outputs": [],
   "source": [
    "X_train,X_test,y_train,y_test=train_test_split(X,Y,test_size=0.30,random_state=42)"
   ]
  },
  {
   "cell_type": "code",
   "execution_count": 47,
   "metadata": {},
   "outputs": [
    {
     "name": "stderr",
     "output_type": "stream",
     "text": [
      "C:\\Users\\lkond\\Dropbox\\Programok\\Python\\Anaconda\\lib\\site-packages\\sklearn\\linear_model\\_logistic.py:764: ConvergenceWarning: lbfgs failed to converge (status=1):\n",
      "STOP: TOTAL NO. of ITERATIONS REACHED LIMIT.\n",
      "\n",
      "Increase the number of iterations (max_iter) or scale the data as shown in:\n",
      "    https://scikit-learn.org/stable/modules/preprocessing.html\n",
      "Please also refer to the documentation for alternative solver options:\n",
      "    https://scikit-learn.org/stable/modules/linear_model.html#logistic-regression\n",
      "  extra_warning_msg=_LOGISTIC_SOLVER_CONVERGENCE_MSG)\n"
     ]
    },
    {
     "data": {
      "text/plain": [
       "LogisticRegression()"
      ]
     },
     "execution_count": 47,
     "metadata": {},
     "output_type": "execute_result"
    }
   ],
   "source": [
    "model = LogisticRegression()\n",
    "model.fit(X_train, y_train)\n",
    "LogisticRegression()"
   ]
  },
  {
   "cell_type": "code",
   "execution_count": 48,
   "metadata": {},
   "outputs": [
    {
     "data": {
      "text/plain": [
       "0.8296146044624746"
      ]
     },
     "execution_count": 48,
     "metadata": {},
     "output_type": "execute_result"
    }
   ],
   "source": [
    "pred_cv = model.predict(X_test)\n",
    "accuracy_score(y_test,pred_cv)"
   ]
  },
  {
   "cell_type": "code",
   "execution_count": 49,
   "metadata": {},
   "outputs": [],
   "source": [
    "pred_test = model.predict(X)"
   ]
  },
  {
   "cell_type": "code",
   "execution_count": 51,
   "metadata": {},
   "outputs": [],
   "source": [
    "from sklearn.metrics import classification_report"
   ]
  },
  {
   "cell_type": "code",
   "execution_count": 52,
   "metadata": {},
   "outputs": [
    {
     "name": "stdout",
     "output_type": "stream",
     "text": [
      "              precision    recall  f1-score   support\n",
      "\n",
      "         0.0       0.79      0.71      0.75     16948\n",
      "         1.0       0.85      0.90      0.87     30706\n",
      "\n",
      "    accuracy                           0.83     47654\n",
      "   macro avg       0.82      0.80      0.81     47654\n",
      "weighted avg       0.83      0.83      0.83     47654\n",
      "\n"
     ]
    }
   ],
   "source": [
    "print(classification_report(Y,pred_test))"
   ]
  },
  {
   "cell_type": "code",
   "execution_count": 59,
   "metadata": {},
   "outputs": [
    {
     "data": {
      "image/png": "[encoded data removed]",
      "text/plain": [
       "<Figure size 1152x720 with 2 Axes>"
      ]
     },
     "metadata": {
      "needs_background": "light"
     },
     "output_type": "display_data"
    }
   ],
   "source": [
    "group_names = ['True Neg','False Pos','False Neg','True Pos']\n",
    "group_counts = ['{0:0.0f}'.format(value) for value in\n",
    "                confusion_matrix.flatten()]\n",
    "group_percentages = ['{0:.2%}'.format(value) for value in\n",
    "                     confusion_matrix.flatten()/np.sum(confusion_matrix)]\n",
    "labels = [f'{v1}\\n{v2}\\n{v3}' for v1, v2, v3 in\n",
    "          zip(group_names,group_counts,group_percentages)]\n",
    "labels = np.asarray(labels).reshape(2,2)\n",
    "\n",
    "plt.figure(figsize = (16,10))\n",
    "akws = {\"ha\": 'center',\"va\": 'top', \"size\":20}\n",
    "\n",
    "ax = sns.heatmap(pd.DataFrame(confusion_matrix), annot=labels, fmt='', cmap='Blues', annot_kws=akws )\n",
    "\n",
    "\n",
    "for t in ax.texts:\n",
    "    trans = t.get_transform()\n",
    "    offs = matplotlib.transforms.ScaledTranslation(-0, 0,\n",
    "                    matplotlib.transforms.IdentityTransform())\n",
    "    t.set_transform( offs + trans )\n",
    "plt.title('Confusion Matrix for the logistic regression model on the test data', size=26)\n",
    "    \n",
    "plt.show()"
   ]
  }
 ],
 "metadata": {
  "kernelspec": {
   "display_name": "Python 3",
   "language": "python",
   "name": "python3"
  },
  "language_info": {
   "codemirror_mode": {
    "name": "ipython",
    "version": 3
   },
   "file_extension": ".py",
   "mimetype": "text/x-python",
   "name": "python",
   "nbconvert_exporter": "python",
   "pygments_lexer": "ipython3",
   "version": "3.6.5"
  }
 },
 "nbformat": 4,
 "nbformat_minor": 4
}
